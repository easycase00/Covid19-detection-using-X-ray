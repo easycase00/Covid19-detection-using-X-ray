{
 "cells": [
  {
   "cell_type": "code",
   "execution_count": 1,
   "id": "08a4a37b",
   "metadata": {},
   "outputs": [],
   "source": [
    "Train_Path= \"Dataset/Train\"\n",
    "Val_Path= \"Dataset/Test\""
   ]
  },
  {
   "cell_type": "code",
   "execution_count": 2,
   "id": "8fe3a934",
   "metadata": {},
   "outputs": [
    {
     "name": "stderr",
     "output_type": "stream",
     "text": [
      "Using TensorFlow backend.\n"
     ]
    }
   ],
   "source": [
    "import numpy as np\n",
    "import matplotlib.pyplot as plt\n",
    "import keras\n",
    "from keras.layers import *\n",
    "from keras.models import *\n",
    "from keras.preprocessing import image"
   ]
  },
  {
   "cell_type": "markdown",
   "id": "4798884b",
   "metadata": {},
   "source": [
    "## CNN based seqn model"
   ]
  },
  {
   "cell_type": "code",
   "execution_count": 3,
   "id": "5a1c9995",
   "metadata": {},
   "outputs": [],
   "source": [
    "model= Sequential()\n",
    "\n",
    "model.add(Conv2D(32,kernel_size= (3,3), activation='relu', input_shape=(224,224,3)))\n",
    "\n",
    "model.add(Conv2D(64,(3,3), activation='relu'))\n",
    "model.add(MaxPool2D(pool_size=(2,2)))\n",
    "model.add(Dropout(0.25))\n",
    "\n",
    "model.add(Conv2D(64,(3,3), activation='relu'))\n",
    "model.add(MaxPool2D(pool_size=(2,2)))\n",
    "model.add(Dropout(0.25))\n",
    "\n",
    "model.add(Conv2D(128,(3,3), activation='relu'))\n",
    "model.add(MaxPool2D(pool_size=(2,2)))\n",
    "model.add(Dropout(0.25))\n",
    "\n",
    "model.add(Flatten())\n",
    "model.add(Dense(64, activation='relu'))\n",
    "model.add(Dropout(0.5))\n",
    "\n",
    "model.add(Dense(1,activation='sigmoid'))\n",
    "\n",
    "model.compile(loss= keras.losses.binary_crossentropy, optimizer='adam', metrics=['accuracy'])"
   ]
  },
  {
   "cell_type": "code",
   "execution_count": 4,
   "id": "402eb47b",
   "metadata": {},
   "outputs": [
    {
     "name": "stdout",
     "output_type": "stream",
     "text": [
      "Model: \"sequential\"\n",
      "_________________________________________________________________\n",
      "Layer (type)                 Output Shape              Param #   \n",
      "=================================================================\n",
      "conv2d (Conv2D)              (None, 222, 222, 32)      896       \n",
      "_________________________________________________________________\n",
      "conv2d_1 (Conv2D)            (None, 220, 220, 64)      18496     \n",
      "_________________________________________________________________\n",
      "max_pooling2d (MaxPooling2D) (None, 110, 110, 64)      0         \n",
      "_________________________________________________________________\n",
      "dropout (Dropout)            (None, 110, 110, 64)      0         \n",
      "_________________________________________________________________\n",
      "conv2d_2 (Conv2D)            (None, 108, 108, 64)      36928     \n",
      "_________________________________________________________________\n",
      "max_pooling2d_1 (MaxPooling2 (None, 54, 54, 64)        0         \n",
      "_________________________________________________________________\n",
      "dropout_1 (Dropout)          (None, 54, 54, 64)        0         \n",
      "_________________________________________________________________\n",
      "conv2d_3 (Conv2D)            (None, 52, 52, 128)       73856     \n",
      "_________________________________________________________________\n",
      "max_pooling2d_2 (MaxPooling2 (None, 26, 26, 128)       0         \n",
      "_________________________________________________________________\n",
      "dropout_2 (Dropout)          (None, 26, 26, 128)       0         \n",
      "_________________________________________________________________\n",
      "flatten (Flatten)            (None, 86528)             0         \n",
      "_________________________________________________________________\n",
      "dense (Dense)                (None, 64)                5537856   \n",
      "_________________________________________________________________\n",
      "dropout_3 (Dropout)          (None, 64)                0         \n",
      "_________________________________________________________________\n",
      "dense_1 (Dense)              (None, 1)                 65        \n",
      "=================================================================\n",
      "Total params: 5,668,097\n",
      "Trainable params: 5,668,097\n",
      "Non-trainable params: 0\n",
      "_________________________________________________________________\n"
     ]
    }
   ],
   "source": [
    "model.summary()"
   ]
  },
  {
   "cell_type": "markdown",
   "id": "50327664",
   "metadata": {},
   "source": [
    "## Training from scratch"
   ]
  },
  {
   "cell_type": "code",
   "execution_count": 5,
   "id": "e821361f",
   "metadata": {},
   "outputs": [],
   "source": [
    "train_datagen= image.ImageDataGenerator(\n",
    "    rescale= 1./255,\n",
    "    shear_range= 0.2,\n",
    "    zoom_range= 0.2,\n",
    "    horizontal_flip= True,)\n",
    "\n",
    "test_dataset= image.ImageDataGenerator(rescale=1./255)"
   ]
  },
  {
   "cell_type": "code",
   "execution_count": 6,
   "id": "9c802480",
   "metadata": {},
   "outputs": [
    {
     "name": "stdout",
     "output_type": "stream",
     "text": [
      "Found 260 images belonging to 2 classes.\n"
     ]
    }
   ],
   "source": [
    "train_generator= train_datagen.flow_from_directory(\n",
    "    'Dataset/Train',\n",
    "    target_size= (224,224),\n",
    "    batch_size=32,\n",
    "    class_mode='binary')\n"
   ]
  },
  {
   "cell_type": "code",
   "execution_count": 7,
   "id": "3841d991",
   "metadata": {},
   "outputs": [
    {
     "data": {
      "text/plain": [
       "{'Covid': 0, 'Normal': 1}"
      ]
     },
     "execution_count": 7,
     "metadata": {},
     "output_type": "execute_result"
    }
   ],
   "source": [
    "train_generator.class_indices"
   ]
  },
  {
   "cell_type": "code",
   "execution_count": 8,
   "id": "273521f6",
   "metadata": {},
   "outputs": [
    {
     "name": "stdout",
     "output_type": "stream",
     "text": [
      "Found 132 images belonging to 2 classes.\n"
     ]
    }
   ],
   "source": [
    "validation_generator= test_dataset.flow_from_directory(\n",
    "    'Dataset/Test',\n",
    "    target_size= (224,224),\n",
    "    batch_size=32,\n",
    "    class_mode='binary'\n",
    ")"
   ]
  },
  {
   "cell_type": "code",
   "execution_count": 9,
   "id": "83466d25",
   "metadata": {},
   "outputs": [
    {
     "data": {
      "text/plain": [
       "{'Covid': 0, 'Normal': 1}"
      ]
     },
     "execution_count": 9,
     "metadata": {},
     "output_type": "execute_result"
    }
   ],
   "source": [
    "validation_generator.class_indices"
   ]
  },
  {
   "cell_type": "code",
   "execution_count": 11,
   "id": "651cef0d",
   "metadata": {},
   "outputs": [
    {
     "name": "stdout",
     "output_type": "stream",
     "text": [
      "WARNING:tensorflow:From <ipython-input-11-efc285a57f04>:1: Model.fit_generator (from tensorflow.python.keras.engine.training) is deprecated and will be removed in a future version.\n",
      "Instructions for updating:\n",
      "Please use Model.fit, which supports generators.\n",
      "Epoch 1/10\n",
      "8/8 [==============================] - 29s 4s/step - loss: 1.1480 - accuracy: 0.4956 - val_loss: 0.6932 - val_accuracy: 0.4844\n",
      "Epoch 2/10\n",
      "8/8 [==============================] - 26s 3s/step - loss: 0.7027 - accuracy: 0.5658 - val_loss: 0.6604 - val_accuracy: 0.7812\n",
      "Epoch 3/10\n",
      "8/8 [==============================] - 26s 3s/step - loss: 0.6275 - accuracy: 0.6974 - val_loss: 0.5617 - val_accuracy: 0.9844\n",
      "Epoch 4/10\n",
      "8/8 [==============================] - 27s 3s/step - loss: 0.4498 - accuracy: 0.8008 - val_loss: 0.2946 - val_accuracy: 0.9531\n",
      "Epoch 5/10\n",
      "8/8 [==============================] - 26s 3s/step - loss: 0.4048 - accuracy: 0.8640 - val_loss: 0.2454 - val_accuracy: 0.9844\n",
      "Epoch 6/10\n",
      "8/8 [==============================] - 27s 3s/step - loss: 0.4669 - accuracy: 0.7939 - val_loss: 0.4321 - val_accuracy: 0.9688\n",
      "Epoch 7/10\n",
      "8/8 [==============================] - 26s 3s/step - loss: 0.3894 - accuracy: 0.8377 - val_loss: 0.1244 - val_accuracy: 1.0000\n",
      "Epoch 8/10\n",
      "8/8 [==============================] - 25s 3s/step - loss: 0.2819 - accuracy: 0.8772 - val_loss: 0.1193 - val_accuracy: 0.9844\n",
      "Epoch 9/10\n",
      "8/8 [==============================] - 26s 3s/step - loss: 0.2680 - accuracy: 0.9211 - val_loss: 0.0656 - val_accuracy: 1.0000\n",
      "Epoch 10/10\n",
      "8/8 [==============================] - 25s 3s/step - loss: 0.2445 - accuracy: 0.9211 - val_loss: 0.1731 - val_accuracy: 0.9844\n"
     ]
    }
   ],
   "source": [
    "hist= model.fit_generator(\n",
    "    train_generator,\n",
    "    steps_per_epoch=8,\n",
    "    epochs= 10,\n",
    "    validation_data= validation_generator,\n",
    "    validation_steps=2\n",
    ")"
   ]
  },
  {
   "cell_type": "markdown",
   "id": "cafa71e2",
   "metadata": {},
   "source": [
    "Class activation maps;\n",
    "grad cam for further understanding the model"
   ]
  },
  {
   "cell_type": "code",
   "execution_count": 12,
   "id": "97d6ae9c",
   "metadata": {},
   "outputs": [],
   "source": [
    "model.save(\"model_adv.h5\")"
   ]
  },
  {
   "cell_type": "code",
   "execution_count": 13,
   "id": "29101321",
   "metadata": {},
   "outputs": [
    {
     "name": "stdout",
     "output_type": "stream",
     "text": [
      "WARNING:tensorflow:From <ipython-input-13-e4ade065aa26>:1: Model.evaluate_generator (from tensorflow.python.keras.engine.training) is deprecated and will be removed in a future version.\n",
      "Instructions for updating:\n",
      "Please use Model.evaluate, which supports generators.\n"
     ]
    },
    {
     "data": {
      "text/plain": [
       "[0.2680407762527466, 0.949999988079071]"
      ]
     },
     "execution_count": 13,
     "metadata": {},
     "output_type": "execute_result"
    }
   ],
   "source": [
    "model.evaluate_generator(train_generator)"
   ]
  },
  {
   "cell_type": "code",
   "execution_count": 14,
   "id": "12c6ace8",
   "metadata": {},
   "outputs": [
    {
     "data": {
      "text/plain": [
       "[0.17327110469341278, 0.9848484992980957]"
      ]
     },
     "execution_count": 14,
     "metadata": {},
     "output_type": "execute_result"
    }
   ],
   "source": [
    "model.evaluate_generator(validation_generator)"
   ]
  },
  {
   "cell_type": "markdown",
   "id": "7a72e4c5",
   "metadata": {},
   "source": [
    "## Test Images"
   ]
  },
  {
   "cell_type": "code",
   "execution_count": 16,
   "id": "82dc193a",
   "metadata": {},
   "outputs": [],
   "source": [
    "model= load_model('model_adv.h5')"
   ]
  },
  {
   "cell_type": "code",
   "execution_count": 17,
   "id": "f1c4607a",
   "metadata": {},
   "outputs": [],
   "source": [
    "import os"
   ]
  },
  {
   "cell_type": "code",
   "execution_count": 18,
   "id": "11e5c27a",
   "metadata": {},
   "outputs": [
    {
     "data": {
      "text/plain": [
       "{'Covid': 0, 'Normal': 1}"
      ]
     },
     "execution_count": 18,
     "metadata": {},
     "output_type": "execute_result"
    }
   ],
   "source": [
    "train_generator.class_indices"
   ]
  },
  {
   "cell_type": "code",
   "execution_count": 19,
   "id": "a2b38943",
   "metadata": {},
   "outputs": [],
   "source": [
    "y_actual= []\n",
    "y_test= []"
   ]
  },
  {
   "cell_type": "code",
   "execution_count": 20,
   "id": "37fe7957",
   "metadata": {},
   "outputs": [
    {
     "name": "stdout",
     "output_type": "stream",
     "text": [
      "WARNING:tensorflow:From <ipython-input-20-c224181a3e7e>:5: Sequential.predict_classes (from tensorflow.python.keras.engine.sequential) is deprecated and will be removed after 2021-01-01.\n",
      "Instructions for updating:\n",
      "Please use instead:* `np.argmax(model.predict(x), axis=-1)`,   if your model does multi-class classification   (e.g. if it uses a `softmax` last-layer activation).* `(model.predict(x) > 0.5).astype(\"int32\")`,   if your model does binary classification   (e.g. if it uses a `sigmoid` last-layer activation).\n"
     ]
    }
   ],
   "source": [
    "for i in os.listdir(\"Dataset/Test/Normal/\"):\n",
    "    img= image.load_img(\"Dataset/Test/Normal/\"+i, target_size=(224,224))\n",
    "    img= image.img_to_array(img)\n",
    "    img= np.expand_dims(img, axis=0)\n",
    "    p= model.predict_classes(img)\n",
    "    y_test.append(p[0,0])\n",
    "    y_actual.append(1)"
   ]
  },
  {
   "cell_type": "code",
   "execution_count": 21,
   "id": "0d2ee3cf",
   "metadata": {},
   "outputs": [],
   "source": [
    "for i in os.listdir(\"Dataset/Test/Covid/\"):\n",
    "    img= image.load_img(\"Dataset/Test/Covid/\"+i, target_size=(224,224))\n",
    "    img= image.img_to_array(img)\n",
    "    img= np.expand_dims(img, axis=0)\n",
    "    p= model.predict_classes(img)\n",
    "    y_test.append(p[0,0])\n",
    "    y_actual.append(1)"
   ]
  },
  {
   "cell_type": "code",
   "execution_count": 22,
   "id": "daa2ab5b",
   "metadata": {},
   "outputs": [],
   "source": [
    "y_actual= np.array(y_actual)\n",
    "y_test= np.array(y_test)"
   ]
  },
  {
   "cell_type": "code",
   "execution_count": 23,
   "id": "e307919e",
   "metadata": {},
   "outputs": [],
   "source": [
    "from sklearn.metrics import confusion_matrix\n",
    "cm= confusion_matrix(y_actual, y_test)"
   ]
  },
  {
   "cell_type": "code",
   "execution_count": 24,
   "id": "d12c0d79",
   "metadata": {},
   "outputs": [],
   "source": [
    "import seaborn as sns"
   ]
  },
  {
   "cell_type": "code",
   "execution_count": 25,
   "id": "e1c16845",
   "metadata": {},
   "outputs": [
    {
     "data": {
      "text/plain": [
       "<AxesSubplot:>"
      ]
     },
     "execution_count": 25,
     "metadata": {},
     "output_type": "execute_result"
    },
    {
     "data": {
      "image/png": "[encoded data removed]",
      "text/plain": [
       "<Figure size 432x288 with 2 Axes>"
      ]
     },
     "metadata": {
      "needs_background": "light"
     },
     "output_type": "display_data"
    }
   ],
   "source": [
    "sns.heatmap(cm, cmap=\"plasma\", annot=True)"
   ]
  },
  {
   "cell_type": "code",
   "execution_count": null,
   "id": "1606f104",
   "metadata": {},
   "outputs": [],
   "source": []
  }
 ],
 "metadata": {
  "kernelspec": {
   "display_name": "Python 3",
   "language": "python",
   "name": "python3"
  },
  "language_info": {
   "codemirror_mode": {
    "name": "ipython",
    "version": 3
   },
   "file_extension": ".py",
   "mimetype": "text/x-python",
   "name": "python",
   "nbconvert_exporter": "python",
   "pygments_lexer": "ipython3",
   "version": "3.8.8"
  }
 },
 "nbformat": 4,
 "nbformat_minor": 5
}
